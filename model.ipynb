{
 "cells": [
  {
   "cell_type": "markdown",
   "metadata": {},
   "source": [
    "# Language Selection\n",
    "\n",
    "The dataset used for this challenge is the NCHLT Text Corpora collected by the South African Department of Arts and Culture & Centre for Text Technology (CTexT, North-West University, South Africa). The training set was improved through additional cleaning done by Praekelt.\n",
    "\n",
    "\n",
    "© Explore Data Science Academy"
   ]
  },
  {
   "cell_type": "code",
   "execution_count": 3,
   "metadata": {},
   "outputs": [],
   "source": [
    "# import relevant libraries\n",
    "import nltk\n",
    "import warnings\n",
    "warnings.filterwarnings(\"ignore\")\n",
    "import numpy as np\n",
    "import pandas as pd\n",
    "\n",
    "import matplotlib.pyplot as plt\n",
    "%matplotlib inline\n",
    "import seaborn as sns\n",
    "import re\n",
    "pd.set_option('display.max_rows', 100)\n",
    "from sklearn.utils import resample\n",
    "from sklearn.pipeline import Pipeline\n",
    "\n",
    "\n",
    "from nltk.corpus import stopwords\n",
    "from sklearn.metrics import classification_report\n",
    "\n",
    "# set plot style\n",
    "# Style\n",
    "import matplotlib.style as style \n",
    "sns.set(font_scale=1.5)\n",
    "style.use('seaborn-pastel')\n",
    "style.use('seaborn-poster')\n",
    "from PIL import Image\n",
    "from wordcloud import WordCloud\n"
   ]
  },
  {
   "cell_type": "markdown",
   "metadata": {},
   "source": [
    "# Loading the data\n",
    "\n",
    "Getting the Training and Testing data"
   ]
  },
  {
   "cell_type": "code",
   "execution_count": 4,
   "metadata": {},
   "outputs": [],
   "source": [
    "# Loading Data\n",
    "df_train = pd.read_csv('C:/Users/Mpilenhle/Desktop/Hackathon/train_set.csv')\n",
    "df_test = pd.read_csv('C:/Users/Mpilenhle/Desktop/Hackathon/test_set.csv')"
   ]
  },
  {
   "cell_type": "code",
   "execution_count": 5,
   "metadata": {},
   "outputs": [
    {
     "data": {
      "text/plain": [
       "(33000, 2)"
      ]
     },
     "execution_count": 5,
     "metadata": {},
     "output_type": "execute_result"
    }
   ],
   "source": [
    "# looking at data shape\n",
    "df_train.shape"
   ]
  },
  {
   "cell_type": "code",
   "execution_count": 6,
   "metadata": {},
   "outputs": [
    {
     "data": {
      "text/html": [
       "<div>\n",
       "<style scoped>\n",
       "    .dataframe tbody tr th:only-of-type {\n",
       "        vertical-align: middle;\n",
       "    }\n",
       "\n",
       "    .dataframe tbody tr th {\n",
       "        vertical-align: top;\n",
       "    }\n",
       "\n",
       "    .dataframe thead th {\n",
       "        text-align: right;\n",
       "    }\n",
       "</style>\n",
       "<table border=\"1\" class=\"dataframe\">\n",
       "  <thead>\n",
       "    <tr style=\"text-align: right;\">\n",
       "      <th></th>\n",
       "      <th>lang_id</th>\n",
       "      <th>text</th>\n",
       "    </tr>\n",
       "  </thead>\n",
       "  <tbody>\n",
       "    <tr>\n",
       "      <th>0</th>\n",
       "      <td>xho</td>\n",
       "      <td>umgaqo-siseko wenza amalungiselelo kumaziko ax...</td>\n",
       "    </tr>\n",
       "    <tr>\n",
       "      <th>1</th>\n",
       "      <td>xho</td>\n",
       "      <td>i-dha iya kuba nobulumko bokubeka umsebenzi na...</td>\n",
       "    </tr>\n",
       "    <tr>\n",
       "      <th>2</th>\n",
       "      <td>eng</td>\n",
       "      <td>the province of kwazulu-natal department of tr...</td>\n",
       "    </tr>\n",
       "    <tr>\n",
       "      <th>3</th>\n",
       "      <td>nso</td>\n",
       "      <td>o netefatša gore o ba file dilo ka moka tše le...</td>\n",
       "    </tr>\n",
       "    <tr>\n",
       "      <th>4</th>\n",
       "      <td>ven</td>\n",
       "      <td>khomishini ya ndinganyiso ya mbeu yo ewa maana...</td>\n",
       "    </tr>\n",
       "  </tbody>\n",
       "</table>\n",
       "</div>"
      ],
      "text/plain": [
       "  lang_id                                               text\n",
       "0     xho  umgaqo-siseko wenza amalungiselelo kumaziko ax...\n",
       "1     xho  i-dha iya kuba nobulumko bokubeka umsebenzi na...\n",
       "2     eng  the province of kwazulu-natal department of tr...\n",
       "3     nso  o netefatša gore o ba file dilo ka moka tše le...\n",
       "4     ven  khomishini ya ndinganyiso ya mbeu yo ewa maana..."
      ]
     },
     "execution_count": 6,
     "metadata": {},
     "output_type": "execute_result"
    }
   ],
   "source": [
    "# looking at the data frame\n",
    "df_train.head()"
   ]
  },
  {
   "cell_type": "code",
   "execution_count": 7,
   "metadata": {},
   "outputs": [
    {
     "data": {
      "text/plain": [
       "(5682, 2)"
      ]
     },
     "execution_count": 7,
     "metadata": {},
     "output_type": "execute_result"
    }
   ],
   "source": [
    "df_test.shape"
   ]
  },
  {
   "cell_type": "code",
   "execution_count": 8,
   "metadata": {},
   "outputs": [
    {
     "data": {
      "text/html": [
       "<div>\n",
       "<style scoped>\n",
       "    .dataframe tbody tr th:only-of-type {\n",
       "        vertical-align: middle;\n",
       "    }\n",
       "\n",
       "    .dataframe tbody tr th {\n",
       "        vertical-align: top;\n",
       "    }\n",
       "\n",
       "    .dataframe thead th {\n",
       "        text-align: right;\n",
       "    }\n",
       "</style>\n",
       "<table border=\"1\" class=\"dataframe\">\n",
       "  <thead>\n",
       "    <tr style=\"text-align: right;\">\n",
       "      <th></th>\n",
       "      <th>index</th>\n",
       "      <th>text</th>\n",
       "    </tr>\n",
       "  </thead>\n",
       "  <tbody>\n",
       "    <tr>\n",
       "      <th>0</th>\n",
       "      <td>1</td>\n",
       "      <td>Mmasepala, fa maemo a a kgethegileng a letlele...</td>\n",
       "    </tr>\n",
       "    <tr>\n",
       "      <th>1</th>\n",
       "      <td>2</td>\n",
       "      <td>Uzakwaziswa ngokufaneleko nakungafuneka eminye...</td>\n",
       "    </tr>\n",
       "    <tr>\n",
       "      <th>2</th>\n",
       "      <td>3</td>\n",
       "      <td>Tshivhumbeo tshi fana na ngano dza vhathu.</td>\n",
       "    </tr>\n",
       "    <tr>\n",
       "      <th>3</th>\n",
       "      <td>4</td>\n",
       "      <td>Kube inja nelikati betingevakala kutsi titsini...</td>\n",
       "    </tr>\n",
       "    <tr>\n",
       "      <th>4</th>\n",
       "      <td>5</td>\n",
       "      <td>Winste op buitelandse valuta.</td>\n",
       "    </tr>\n",
       "  </tbody>\n",
       "</table>\n",
       "</div>"
      ],
      "text/plain": [
       "   index                                               text\n",
       "0      1  Mmasepala, fa maemo a a kgethegileng a letlele...\n",
       "1      2  Uzakwaziswa ngokufaneleko nakungafuneka eminye...\n",
       "2      3         Tshivhumbeo tshi fana na ngano dza vhathu.\n",
       "3      4  Kube inja nelikati betingevakala kutsi titsini...\n",
       "4      5                      Winste op buitelandse valuta."
      ]
     },
     "execution_count": 8,
     "metadata": {},
     "output_type": "execute_result"
    }
   ],
   "source": [
    "df_test.head()"
   ]
  },
  {
   "cell_type": "code",
   "execution_count": 9,
   "metadata": {},
   "outputs": [
    {
     "data": {
      "text/plain": [
       "Index(['xho', 'eng', 'nso', 'ven', 'tsn', 'nbl', 'zul', 'ssw', 'tso', 'sot',\n",
       "       'afr'],\n",
       "      dtype='object')"
      ]
     },
     "execution_count": 9,
     "metadata": {},
     "output_type": "execute_result"
    }
   ],
   "source": [
    "df_train['lang_id'].value_counts().index"
   ]
  },
  {
   "cell_type": "markdown",
   "metadata": {},
   "source": [
    "# Looking at the data distribution of the Classes\n",
    "\n",
    "Looking at the data distribution there is a balance in the data"
   ]
  },
  {
   "cell_type": "code",
   "execution_count": 105,
   "metadata": {
    "scrolled": true
   },
   "outputs": [
    {
     "data": {
      "image/png": "[encoded data removed]",
      "text/plain": [
       "<Figure size 921.6x633.6 with 1 Axes>"
      ]
     },
     "metadata": {},
     "output_type": "display_data"
    }
   ],
   "source": [
    "# Display target distribution\n",
    "plt.plot(df_train['lang_id'].value_counts())\n",
    "\n",
    "labels= ['xho', 'eng', 'nso', 'ven', 'tsn', 'nbl', 'zul', 'ssw', 'tso', 'sot',\n",
    "       'afr']\n",
    "plt.show()"
   ]
  },
  {
   "cell_type": "code",
   "execution_count": 106,
   "metadata": {},
   "outputs": [
    {
     "data": {
      "text/plain": [
       "(33000, 2)"
      ]
     },
     "execution_count": 106,
     "metadata": {},
     "output_type": "execute_result"
    }
   ],
   "source": [
    "df_train.shape"
   ]
  },
  {
   "cell_type": "markdown",
   "metadata": {},
   "source": [
    "# Train Test split with and Vectorising\n",
    "\n",
    "The splitting of data so as to get the validation data, to make sure our tests are validated, and using the tfidf we can tranform the data to numeric (float) so the model can be able to train on it."
   ]
  },
  {
   "cell_type": "code",
   "execution_count": 107,
   "metadata": {},
   "outputs": [],
   "source": [
    "# importing necessary libraries\n",
    "from sklearn import datasets\n",
    "from sklearn.metrics import confusion_matrix\n",
    "from sklearn.model_selection import train_test_split\n",
    "\n",
    "# Import label encoder\n",
    "from sklearn import preprocessing\n",
    "\n",
    "# label_encoder object knows how to understand word labels.\n",
    "label_encoder = preprocessing.LabelEncoder()\n",
    "\n",
    " \n",
    "# X -> features, y -> label\n",
    "y =  df_train['lang_id']\n",
    "X =  df_train['text']\n",
    "\n",
    "# dividing X, y into train and test data\n",
    "X_train, X_test, y_train, y_test = train_test_split(X, y, \n",
    "                                random_state = 42)\n",
    "\n",
    "\n",
    "# extracting features\n",
    "from sklearn.feature_extraction.text import TfidfVectorizer\n",
    "vectorizer = TfidfVectorizer()\n",
    "V_train_X = vectorizer.fit_transform(X_train)\n",
    "V_test_X = vectorizer.transform(X_test)\n",
    "\n",
    "\n",
    "# Import the scaler module\n",
    "from sklearn import preprocessing\n",
    "scaler = preprocessing.MaxAbsScaler()\n",
    "\n",
    "\n",
    "# Scale data\n",
    "X_train_scaled = scaler.fit_transform(V_train_X)\n",
    "x_test_scaled = scaler.transform(V_test_X)\n"
   ]
  },
  {
   "cell_type": "markdown",
   "metadata": {},
   "source": [
    "## Training the model \n",
    " \n",
    " By using different models we can get the priviledge of comparing the different perfomance, of each model"
   ]
  },
  {
   "cell_type": "code",
   "execution_count": 108,
   "metadata": {},
   "outputs": [],
   "source": [
    "# training a linear SVM classifier\n",
    "from sklearn.svm import LinearSVC\n",
    "svm_model_linear = SVC(kernel = 'linear').fit(up_V_train_X, up_y_train)\n",
    "final_svm_predictions = svm_model_linear.predict(up_V_test_X)\n"
   ]
  },
  {
   "cell_type": "code",
   "execution_count": 50,
   "metadata": {},
   "outputs": [
    {
     "name": "stdout",
     "output_type": "stream",
     "text": [
      "Classification Report SVM\n",
      "              precision    recall  f1-score   support\n",
      "\n",
      "         afr       1.00      0.99      1.00       754\n",
      "         eng       1.00      1.00      1.00       762\n",
      "         nbl       0.99      0.99      0.99       734\n",
      "         nso       1.00      0.99      1.00       782\n",
      "         sot       1.00      1.00      1.00       759\n",
      "         ssw       1.00      1.00      1.00       732\n",
      "         tsn       1.00      1.00      1.00       746\n",
      "         tso       1.00      1.00      1.00       700\n",
      "         ven       1.00      1.00      1.00       785\n",
      "         xho       0.99      1.00      0.99       761\n",
      "         zul       0.98      0.99      0.99       735\n",
      "\n",
      "    accuracy                           1.00      8250\n",
      "   macro avg       1.00      1.00      1.00      8250\n",
      "weighted avg       1.00      1.00      1.00      8250\n",
      "\n"
     ]
    }
   ],
   "source": [
    "print('Classification Report SVM')\n",
    "print(classification_report(up_y_test, svm_predictions))"
   ]
  },
  {
   "cell_type": "code",
   "execution_count": 109,
   "metadata": {},
   "outputs": [
    {
     "name": "stdout",
     "output_type": "stream",
     "text": [
      "Classification Report poly_pred \n",
      "              precision    recall  f1-score   support\n",
      "\n",
      "         afr       1.00      0.93      0.96       754\n",
      "         eng       1.00      0.85      0.92       762\n",
      "         nbl       1.00      0.47      0.64       734\n",
      "         nso       1.00      0.92      0.96       782\n",
      "         sot       1.00      0.90      0.95       759\n",
      "         ssw       1.00      0.49      0.66       732\n",
      "         tsn       1.00      0.92      0.96       746\n",
      "         tso       1.00      0.94      0.97       700\n",
      "         ven       1.00      0.90      0.95       785\n",
      "         xho       1.00      0.57      0.72       761\n",
      "         zul       0.32      1.00      0.48       735\n",
      "\n",
      "    accuracy                           0.81      8250\n",
      "   macro avg       0.94      0.81      0.83      8250\n",
      "weighted avg       0.94      0.81      0.84      8250\n",
      "\n"
     ]
    }
   ],
   "source": [
    "rbf = SVC(kernel='rbf', gamma=0.5, C=0.1).fit(up_V_train_X, up_y_train)\n",
    "poly = SVC(kernel='poly', degree=3, C=1).fit(up_V_train_X, up_y_train)\n",
    "\n",
    "poly_pred = poly.predict(up_V_test_X)\n",
    "rbf_pred = rbf.predict(up_V_test_X)\n",
    "print('Classification Report poly_pred ')\n",
    "print(classification_report(up_y_test, poly_pred))"
   ]
  },
  {
   "cell_type": "code",
   "execution_count": null,
   "metadata": {},
   "outputs": [],
   "source": [
    "print('Classification Report rbf_pred ')\n",
    "print(classification_report(up_y_test, rbf))"
   ]
  },
  {
   "cell_type": "code",
   "execution_count": null,
   "metadata": {},
   "outputs": [],
   "source": [
    "\n",
    "# training a Naive classifierBayes \n",
    "from sklearn.linear_model import LogisticRegression\n",
    "lm_vt = LogisticRegression(multi_class='ovr').fit(up_V_train_X, up_y_train)\n",
    "pred_lr_vt = lm_vt.predict(up_V_test_X)\n",
    "print('Classification Report Logistics')\n",
    "print(classification_report(up_y_test, pred_lr_vt))\n"
   ]
  },
  {
   "cell_type": "code",
   "execution_count": null,
   "metadata": {},
   "outputs": [],
   "source": [
    "from sklearn.naive_bayes import MultinomialNB\n",
    "from sklearn import metrics\n",
    "\n",
    "snb_classifier = MultinomialNB(alpha = 0.5)\n",
    "\n",
    "snb_classifier.fit(X_train_scaled, y_train_f)\n",
    "\n",
    "pred2 = snb_classifier.predict(X_test_scaled)\n",
    "\n",
    "print('Classification Report Logistics')\n",
    "print(classification_report(up_y_test, pred2))\n"
   ]
  },
  {
   "cell_type": "markdown",
   "metadata": {},
   "source": [
    "# Hyper parameter tuning\n",
    "\n",
    "Getting the best parameters for the SVC Linear best C and Gamma"
   ]
  },
  {
   "cell_type": "code",
   "execution_count": null,
   "metadata": {},
   "outputs": [],
   "source": [
    "# Import the scaler module\n",
    "from sklearn import preprocessing\n",
    "scaler = preprocessing.MaxAbsScaler ()\n",
    "# Scale data\n",
    "tX_train_scaled = scaler.fit_transform(up_V_train_Xf)\n",
    "tX_test_scaled = scaler.transform(up_V_test_Xf)"
   ]
  },
  {
   "cell_type": "code",
   "execution_count": 64,
   "metadata": {},
   "outputs": [
    {
     "data": {
      "text/plain": [
       "{'C': 0.001, 'gamma': 0.001}"
      ]
     },
     "execution_count": 64,
     "metadata": {},
     "output_type": "execute_result"
    }
   ],
   "source": [
    "# Import Grid search for hyperparameter tuning\n",
    "from sklearn.model_selection import GridSearchCV\n",
    "\n",
    "# number of folds to be tested on\n",
    "nfolds = 2\n",
    "\n",
    "# the values of c to check for\n",
    "Cs = [0.001, 0.01, 0.1, 1, 10]\n",
    "\n",
    "# the values of gamma\n",
    "gammas = [0.001, 0.01, 0.1, 1]\n",
    "\n",
    "# Creating the parameters dictionary\n",
    "param_grid = {\n",
    "    'C'     : Cs,\n",
    "    'gamma' : gammas\n",
    "    }\n",
    "\n",
    "# Applying the grid search and comparing based on the f1 score\n",
    "grid_SVM = GridSearchCV(SVC(kernel='linear'), param_grid, scoring='f1', cv=nfolds)\n",
    "grid_SVM.fit(up_V_train_X, up_y_train)\n",
    "\n",
    "# Getting the best parameters of grid search\n",
    "grid_SVM.best_params_\n"
   ]
  },
  {
   "cell_type": "markdown",
   "metadata": {},
   "source": [
    "# Best Feature Selection"
   ]
  },
  {
   "cell_type": "code",
   "execution_count": null,
   "metadata": {},
   "outputs": [],
   "source": [
    "# Import the feature selector module\n",
    "from sklearn import feature_selection\n",
    "from sklearn.feature_selection import f_classif\n",
    "\n",
    "# Set up selector, choosing score function and number of features to retain\n",
    "selector_kbest = feature_selection.SelectKBest(score_func=f_classif, k= 40)\n",
    "\n",
    "\n",
    "# Transform (i.e.: run selection on) the training data\n",
    "X_train_kbest = selector_kbest.fit_transform(V_train_X, y_train)\n",
    "\n",
    "# Fit model to the transformed data\n",
    "SVM_k_best = SVC(kernel='linear', degree=0.001, C=0.001).fit(X_train_kbest, y_train)\n",
    "\n",
    "\n",
    "# Before generating predictions, we'll need to transform the test data the same way we did the train data\n",
    "X_test_kbest = selector_kbest.transform(V_test_X)\n",
    "\n",
    "# Generate predictions from var thresh model\n",
    "pred_lm_kbest = SVM_k_best.predict(X_test_kbest)\n",
    "\n",
    "\n",
    "#rbf_pred = rbf.predict(V_test_X)\n",
    "print('Classification Report poly_pred ')\n",
    "print(classification_report(y_test, pred_lm_kbest))"
   ]
  },
  {
   "cell_type": "code",
   "execution_count": 27,
   "metadata": {},
   "outputs": [
    {
     "name": "stdout",
     "output_type": "stream",
     "text": [
      "Classification Report poly_pred \n",
      "              precision    recall  f1-score   support\n",
      "\n",
      "           0       1.00      0.93      0.96       754\n",
      "           1       1.00      0.85      0.92       762\n",
      "           2       1.00      0.47      0.64       734\n",
      "           3       1.00      0.92      0.96       782\n",
      "           4       1.00      0.90      0.95       759\n",
      "           5       1.00      0.49      0.66       732\n",
      "           6       1.00      0.92      0.96       746\n",
      "           7       1.00      0.94      0.97       700\n",
      "           8       1.00      0.90      0.95       785\n",
      "           9       1.00      0.57      0.72       761\n",
      "          10       0.32      1.00      0.48       735\n",
      "\n",
      "    accuracy                           0.81      8250\n",
      "   macro avg       0.94      0.81      0.83      8250\n",
      "weighted avg       0.94      0.81      0.84      8250\n",
      "\n"
     ]
    }
   ],
   "source": [
    "rbf = SVC(kernel='rbf', gamma=0.5, C=0.1).fit(up_V_train_X, up_y_train)\n",
    "poly = SVC(kernel='poly', degree=3, C=1).fit(up_V_train_X, up_y_train)\n",
    "\n",
    "poly_pred = poly.predict(up_V_test_X)\n",
    "rbf_pred = rbf.predict(up_V_test_X)\n",
    "print('Classification Report poly_pred ')\n",
    "print(classification_report(up_y_test, poly_pred))"
   ]
  },
  {
   "cell_type": "code",
   "execution_count": 48,
   "metadata": {},
   "outputs": [
    {
     "name": "stdout",
     "output_type": "stream",
     "text": [
      "Classification Report Logistics\n",
      "              precision    recall  f1-score   support\n",
      "\n",
      "         afr       1.00      0.99      1.00       754\n",
      "         eng       1.00      1.00      1.00       762\n",
      "         nbl       0.98      0.99      0.99       734\n",
      "         nso       1.00      0.99      1.00       782\n",
      "         sot       1.00      1.00      1.00       759\n",
      "         ssw       0.99      0.99      0.99       732\n",
      "         tsn       1.00      1.00      1.00       746\n",
      "         tso       1.00      1.00      1.00       700\n",
      "         ven       1.00      1.00      1.00       785\n",
      "         xho       0.99      1.00      0.99       761\n",
      "         zul       0.98      0.97      0.98       735\n",
      "\n",
      "    accuracy                           0.99      8250\n",
      "   macro avg       0.99      0.99      0.99      8250\n",
      "weighted avg       0.99      0.99      0.99      8250\n",
      "\n"
     ]
    }
   ],
   "source": [
    "\n",
    "# training a Naive classifierBayes \n",
    "from sklearn.linear_model import LogisticRegression\n",
    "lm_vt = LogisticRegression(multi_class='ovr').fit(up_V_train_X, up_y_train)\n",
    "pred_lr_vt = lm_vt.predict(up_V_test_X)\n",
    "print('Classification Report Logistics')\n",
    "print(classification_report(up_y_test, pred_lr_vt))"
   ]
  },
  {
   "cell_type": "markdown",
   "metadata": {},
   "source": [
    "# making a Submission"
   ]
  },
  {
   "cell_type": "code",
   "execution_count": 12,
   "metadata": {},
   "outputs": [],
   "source": [
    "#traing the model with the entire data\n",
    "y_train_f =  df_train['lang_id']\n",
    "X_train_f = df_train['text']\n",
    "X_test_f = df_test['text']"
   ]
  },
  {
   "cell_type": "code",
   "execution_count": 15,
   "metadata": {},
   "outputs": [
    {
     "data": {
      "text/plain": [
       "Pipeline(steps=[('tfidf', TfidfVectorizer(ngram_range=(1, 3))),\n",
       "                ('lsvc',\n",
       "                 LinearSVC(C=5, class_weight='balanced', max_iter=8000))])"
      ]
     },
     "execution_count": 15,
     "metadata": {},
     "output_type": "execute_result"
    }
   ],
   "source": [
    "# Train model\n",
    "lsvc.fit(X_train_f, y_train_f)"
   ]
  },
  {
   "cell_type": "code",
   "execution_count": 16,
   "metadata": {},
   "outputs": [],
   "source": [
    "linear_pred = lsvc.predict(X_test_f)"
   ]
  },
  {
   "cell_type": "code",
   "execution_count": 97,
   "metadata": {},
   "outputs": [],
   "source": [
    "# extracting features\n",
    "from sklearn.feature_extraction.text import TfidfVectorizer\n",
    "\n",
    "vectorizer1 = TfidfVectorizer(stop_words = 'english', ngram_range = (1, 2), max_df = 0.5 , min_df = 2, max_features = 140000)\n",
    "V_train_Xf = vectorizer1.fit_transform(X_train_f)\n",
    "V_test_Xf = vectorizer1.transform(X_test_f)"
   ]
  },
  {
   "cell_type": "code",
   "execution_count": 98,
   "metadata": {},
   "outputs": [],
   "source": [
    "# Import the scaler module\n",
    "from sklearn import preprocessing\n",
    "scaler = preprocessing.MaxAbsScaler()\n",
    "\n",
    "# Scale data\n",
    "X_train_scaled = scaler.fit_transform(V_train_Xf)\n",
    "X_test_scaled = scaler.transform(V_test_Xf)"
   ]
  },
  {
   "cell_type": "code",
   "execution_count": 23,
   "metadata": {},
   "outputs": [],
   "source": [
    "# training a linear SVM classifier\n",
    "from sklearn.svm import SVC\n",
    "svm_model_linear = SVC(kernel = 'linear', C = 0.001, gamma = 0.001).fit(X_train_scaled, y_train_f)\n",
    "svm_final_predictions = svm_model_linear.predict(X_test_scaled)"
   ]
  },
  {
   "cell_type": "code",
   "execution_count": 47,
   "metadata": {},
   "outputs": [
    {
     "data": {
      "text/plain": [
       "(33000, 141680)"
      ]
     },
     "execution_count": 47,
     "metadata": {},
     "output_type": "execute_result"
    }
   ],
   "source": [
    "V_train_Xf.shape"
   ]
  },
  {
   "cell_type": "markdown",
   "metadata": {},
   "source": [
    "With the SCV with a linear Kernel used with it's own tuned hyperparameters\n",
    "we have to tune the Naive Bayes as well so as ro have a fair comparison\n",
    "\n",
    "I tuned the alpha starting from 0.5 downwards, and there was an improvement\n"
   ]
  },
  {
   "cell_type": "code",
   "execution_count": 101,
   "metadata": {},
   "outputs": [],
   "source": [
    "from sklearn.naive_bayes import MultinomialNB\n",
    "from sklearn import metrics\n",
    "\n",
    "snb_classifier = MultinomialNB(alpha = 0.5)\n",
    "\n",
    "snb_classifier.fit(X_train_scaled, y_train_f)\n",
    "\n",
    "pred2 = snb_classifier.predict(X_test_scaled)\n"
   ]
  },
  {
   "cell_type": "markdown",
   "metadata": {},
   "source": [
    " # submission"
   ]
  },
  {
   "cell_type": "code",
   "execution_count": 102,
   "metadata": {},
   "outputs": [],
   "source": [
    "daf = pd.DataFrame(pred2, columns=['lang_id'])\n",
    "output = pd.DataFrame({\"index\":df_test['index']})\n",
    "final = output.join(daf)\n",
    "final_name = \"Naive_Bayes18.csv\"\n",
    "final.to_csv(final_name, index=False)\n",
    "        "
   ]
  },
  {
   "cell_type": "code",
   "execution_count": 30,
   "metadata": {},
   "outputs": [
    {
     "data": {
      "text/plain": [
       "Index(['index', 'text'], dtype='object')"
      ]
     },
     "execution_count": 30,
     "metadata": {},
     "output_type": "execute_result"
    }
   ],
   "source": [
    "df_test.columns"
   ]
  },
  {
   "cell_type": "code",
   "execution_count": null,
   "metadata": {},
   "outputs": [],
   "source": []
  },
  {
   "cell_type": "code",
   "execution_count": null,
   "metadata": {},
   "outputs": [],
   "source": []
  }
 ],
 "metadata": {
  "kernelspec": {
   "display_name": "Python 3",
   "language": "python",
   "name": "python3"
  },
  "language_info": {
   "codemirror_mode": {
    "name": "ipython",
    "version": 3
   },
   "file_extension": ".py",
   "mimetype": "text/x-python",
   "name": "python",
   "nbconvert_exporter": "python",
   "pygments_lexer": "ipython3",
   "version": "3.8.5"
  }
 },
 "nbformat": 4,
 "nbformat_minor": 4
}
